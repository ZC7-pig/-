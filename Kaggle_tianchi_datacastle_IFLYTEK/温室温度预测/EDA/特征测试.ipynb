{
 "cells": [
  {
   "cell_type": "code",
   "execution_count": 1,
   "metadata": {},
   "outputs": [],
   "source": [
    "import pandas as pd\n",
    "import numpy as np\n",
    "import matplotlib.pyplot as plt\n",
    "import seaborn as sns\n",
    "#matplotilb inline"
   ]
  },
  {
   "cell_type": "code",
   "execution_count": 12,
   "metadata": {},
   "outputs": [],
   "source": [
    "train_data=pd.read_csv(r'C:/Users/ZC7/Desktop/tianchi/iFLYTEK_AI/fillna_train.csv')\n",
    "col_train=['time', 'year', 'month', 'day', 'hour', 'min', 's', 'tem_out', 'hum_out', 'air_out',\n",
    "       'hum_in', 'air_in','temperature']\n",
    "col_test=['time', 'year', 'month', 'day', 'hour', 'min', 's', 'tem_out', 'hum_out', 'air_out',\n",
    "       'hum_in', 'air_in']\n",
    "train_data.columns=col_train"
   ]
  },
  {
   "cell_type": "code",
   "execution_count": 4,
   "metadata": {},
   "outputs": [],
   "source": [
    "# train_data.fillna(method='ffill',inplace=True)"
   ]
  },
  {
   "cell_type": "code",
   "execution_count": 13,
   "metadata": {},
   "outputs": [],
   "source": [
    "\n",
    "from sklearn.model_selection import KFold#设置交叉验证并定义损失度量\n",
    "from sklearn.model_selection import TimeSeriesSplit\n",
    "# Setup cross validation folds\n",
    "kf = KFold(n_splits=5, random_state=42, shuffle=True)\n",
    "tscv = TimeSeriesSplit(n_splits=5)\n",
    "#定义评价指标\n",
    "def cv_rmse(model, X=train_data.drop(['temperature'],axis=1)):\n",
    "    rmse = np.sqrt(-cross_val_score(model, X, train_data['temperature'],\n",
    "                                    scoring=\"neg_mean_squared_error\", cv=tscv))\n",
    "    return (rmse)"
   ]
  },
  {
   "cell_type": "code",
   "execution_count": 14,
   "metadata": {},
   "outputs": [],
   "source": [
    "from sklearn.model_selection import  cross_val_score\n",
    "from sklearn.ensemble import  RandomForestRegressor\n",
    "from sklearn.linear_model import ElasticNet\n",
    "from sklearn.linear_model import Lasso\n",
    "import lightgbm as lgb\n",
    "rf=RandomForestRegressor(random_state=42)\n",
    "en=ElasticNet(random_state=42)\n",
    "lasso=Lasso(random_state=42)\n",
    "model_lgb = lgb.LGBMRegressor(random_state=42)\n",
    "\n",
    "mse_rf=cv_rmse(rf)\n",
    "mse_en=cv_rmse(en)\n",
    "mse_lasso=cv_rmse(lasso)\n",
    "mse_lgb=cv_rmse(model_lgb)"
   ]
  },
  {
   "cell_type": "code",
   "execution_count": 15,
   "metadata": {},
   "outputs": [
    {
     "name": "stdout",
     "output_type": "stream",
     "text": [
      "RF: 1.2668584139896573 0.6118103383120091\n",
      "EN: 1.3953208629535585 0.6534128193628258\n",
      "Lasso: 1.6152292328911553 0.7002135708816478\n",
      "LGB: 1.1297373916429174 0.5767646815775166\n"
     ]
    }
   ],
   "source": [
    "print(\"RF:\",mse_rf.mean(),mse_rf.std())\n",
    "print(\"EN:\",mse_en.mean(),mse_en.std())\n",
    "print(\"Lasso:\",mse_lasso.mean(),mse_lasso.std())\n",
    "print(\"LGB:\",mse_lgb.mean(),mse_lgb.std())"
   ]
  }
 ],
 "metadata": {
  "kernelspec": {
   "display_name": "Python 3",
   "language": "python",
   "name": "python3"
  },
  "language_info": {
   "codemirror_mode": {
    "name": "ipython",
    "version": 3
   },
   "file_extension": ".py",
   "mimetype": "text/x-python",
   "name": "python",
   "nbconvert_exporter": "python",
   "pygments_lexer": "ipython3",
   "version": "3.7.0"
  },
  "toc": {
   "base_numbering": 1,
   "nav_menu": {},
   "number_sections": true,
   "sideBar": true,
   "skip_h1_title": false,
   "title_cell": "Table of Contents",
   "title_sidebar": "Contents",
   "toc_cell": false,
   "toc_position": {},
   "toc_section_display": true,
   "toc_window_display": false
  },
  "varInspector": {
   "cols": {
    "lenName": 16,
    "lenType": 16,
    "lenVar": 40
   },
   "kernels_config": {
    "python": {
     "delete_cmd_postfix": "",
     "delete_cmd_prefix": "del ",
     "library": "var_list.py",
     "varRefreshCmd": "print(var_dic_list())"
    },
    "r": {
     "delete_cmd_postfix": ") ",
     "delete_cmd_prefix": "rm(",
     "library": "var_list.r",
     "varRefreshCmd": "cat(var_dic_list()) "
    }
   },
   "types_to_exclude": [
    "module",
    "function",
    "builtin_function_or_method",
    "instance",
    "_Feature"
   ],
   "window_display": false
  }
 },
 "nbformat": 4,
 "nbformat_minor": 2
}
