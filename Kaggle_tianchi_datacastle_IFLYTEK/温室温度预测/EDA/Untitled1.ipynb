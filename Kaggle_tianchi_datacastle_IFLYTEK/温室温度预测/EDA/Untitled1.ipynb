{
 "cells": [
  {
   "cell_type": "code",
   "execution_count": null,
   "metadata": {},
   "outputs": [],
   "source": [
    "# -*- coding: utf-8 -*-\n",
    "\"\"\"\n",
    "Created on Tue Jun 30 17:00:08 2020\n",
    "@author: csdn lanxuxml\n",
    "\"\"\"\n",
    " \n",
    "import pandas as pd\n",
    " \n",
    "train_data = pd.read_csv('train.csv')\n",
    "testA_data = pd.read_csv('test.csv')\n",
    " \n",
    "sub = pd.DataFrame(testA_data['time'])\n",
    " \n",
    "train_data = train_data[train_data['temperature'].notnull()]\n",
    "train_data = train_data.fillna(method='bfill')\n",
    "testA_data = testA_data.fillna(method='bfill')\n",
    " \n",
    "testA_data.columns = ['time','year','month','day','hour','min','sec','outdoorTemp','outdoorHum','outdoorAtmo','indoorHum','indoorAtmo']\n",
    " \n",
    "train_data.columns = ['time','year','month','day','hour','min','sec','outdoorTemp','outdoorHum','outdoorAtmo','indoorHum','indoorAtmo', 'temperature']\n",
    " \n",
    "train_data = train_data[['hour','min','sec','outdoorTemp','outdoorHum','outdoorAtmo','indoorHum','indoorAtmo', 'temperature']]\n",
    "testA_data = testA_data[['hour','min','sec','outdoorTemp','outdoorHum','outdoorAtmo','indoorHum','indoorAtmo']]\n",
    " \n",
    "train_data['ratio_outdoorTemp'] = 1/train_data['outdoorTemp']\n",
    "testA_data['ratio_outdoorTemp'] = 1/testA_data['outdoorTemp']\n",
    " \n",
    "train_data['temperature-rewise'] = train_data['temperature'] - train_data['outdoorTemp']\n",
    "train_data.drop(['temperature'], axis=1, inplace=True)\n",
    " \n",
    "from pycaret.regression import *\n",
    " \n",
    "exp_reg = setup(train_data, target = 'temperature-rewise', categorical_features = ['hour','min','sec'], train_size = 0.85)\n",
    " \n",
    "lr=create_model('lr')\n",
    " \n",
    "evaluate_model(lr)\n",
    " \n",
    "pred_holdout = predict_model(lr)\n",
    " \n",
    "lr_final = finalize_model(lr)\n",
    " \n",
    "pred_testA = predict_model(lr_final, data=testA_data)\n",
    " \n",
    "sub[\"temperature\"]=pred_testA['Label'] + testA_data['outdoorTemp']\n",
    " \n",
    "sub.to_csv(\"submision_xunfei.csv\",index=False)\n",
    "————————————————\n",
    "版权声明：本文为CSDN博主「lanxuxml」的原创文章，遵循CC 4.0 BY-SA版权协议，转载请附上原文出处链接及本声明。\n",
    "原文链接：https://blog.csdn.net/lanxuxml/article/details/107158672"
   ]
  }
 ],
 "metadata": {
  "kernelspec": {
   "display_name": "Python 3",
   "language": "python",
   "name": "python3"
  },
  "language_info": {
   "codemirror_mode": {
    "name": "ipython",
    "version": 3
   },
   "file_extension": ".py",
   "mimetype": "text/x-python",
   "name": "python",
   "nbconvert_exporter": "python",
   "pygments_lexer": "ipython3",
   "version": "3.7.0"
  },
  "toc": {
   "base_numbering": 1,
   "nav_menu": {},
   "number_sections": true,
   "sideBar": true,
   "skip_h1_title": false,
   "title_cell": "Table of Contents",
   "title_sidebar": "Contents",
   "toc_cell": false,
   "toc_position": {},
   "toc_section_display": true,
   "toc_window_display": false
  },
  "varInspector": {
   "cols": {
    "lenName": 16,
    "lenType": 16,
    "lenVar": 40
   },
   "kernels_config": {
    "python": {
     "delete_cmd_postfix": "",
     "delete_cmd_prefix": "del ",
     "library": "var_list.py",
     "varRefreshCmd": "print(var_dic_list())"
    },
    "r": {
     "delete_cmd_postfix": ") ",
     "delete_cmd_prefix": "rm(",
     "library": "var_list.r",
     "varRefreshCmd": "cat(var_dic_list()) "
    }
   },
   "types_to_exclude": [
    "module",
    "function",
    "builtin_function_or_method",
    "instance",
    "_Feature"
   ],
   "window_display": false
  }
 },
 "nbformat": 4,
 "nbformat_minor": 2
}
