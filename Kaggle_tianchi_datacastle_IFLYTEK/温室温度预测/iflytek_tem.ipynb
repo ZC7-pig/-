{
 "cells": [
  {
   "cell_type": "code",
   "execution_count": 1,
   "metadata": {},
   "outputs": [],
   "source": [
    "import pandas as pd\n",
    "import os\n",
    "import gc\n",
    "import lightgbm as lgb\n",
    "import xgboost as xgb\n",
    "from catboost import CatBoostRegressor\n",
    "from sklearn.linear_model import SGDRegressor, LinearRegression, Ridge\n",
    "from sklearn.preprocessing import MinMaxScaler\n",
    "import math\n",
    "import numpy as np\n",
    "from tqdm import tqdm\n",
    "from sklearn.model_selection import StratifiedKFold, KFold\n",
    "from sklearn.metrics import mean_absolute_error, mean_squared_error\n",
    "import matplotlib.pyplot as plt\n",
    "import time\n",
    "import warnings\n",
    "import seaborn as sns\n",
    "warnings.filterwarnings('ignore')"
   ]
  },
  {
   "cell_type": "code",
   "execution_count": 2,
   "metadata": {},
   "outputs": [],
   "source": [
    "train_df=pd.read_csv(r'C:/Users/ZC7/Desktop/tianchi/iFLYTEK_AI/train.csv')\n",
    "test_df=pd.read_csv(r'C:/Users/ZC7/Desktop/tianchi/iFLYTEK_AI/fillna_test.csv')\n",
    "sub = pd.DataFrame(test_df['time'])"
   ]
  },
  {
   "cell_type": "code",
   "execution_count": 3,
   "metadata": {},
   "outputs": [],
   "source": [
    "train_df = train_df[train_df['temperature'].notnull()]\n",
    "train_df = train_df.fillna(method='bfill')\n",
    "test_df = test_df.fillna(method='bfill')\n",
    "train_df.columns = ['time','year','month','day','hour','min','sec','outdoorTemp','outdoorHum','outdoorAtmo','indoorHum','indoorAtmo', 'temperature']\n",
    "test_df.columns = ['time','year','month','day','hour','min','sec','outdoorTemp','outdoorHum','outdoorAtmo','indoorHum','indoorAtmo']\n",
    "data_df = pd.concat([train_df, test_df], axis=0, ignore_index=True)"
   ]
  },
  {
   "cell_type": "code",
   "execution_count": 4,
   "metadata": {},
   "outputs": [],
   "source": [
    "#标签特征\n",
    "data_df['s_hight_tem_out']=data_df['outdoorTemp'].apply(lambda x: 1 if x>25 else 0)\n",
    "data_df['s_hight_hum_out']=data_df['outdoorHum'].apply(lambda x: 1 if x>83 else 0)\n",
    "data_df['s_hight_hum_in']=data_df['indoorHum'].apply(lambda x: 1 if x>83 else 0)"
   ]
  },
  {
   "cell_type": "code",
   "execution_count": 6,
   "metadata": {},
   "outputs": [
    {
     "name": "stderr",
     "output_type": "stream",
     "text": [
      "100%|████████████████████████████████████████████████████████████████████████████████████| 5/5 [00:04<00:00,  1.07it/s]\n"
     ]
    },
    {
     "name": "stdout",
     "output_type": "stream",
     "text": [
      "['MDH_outdoorTemp_mean', 'MDH_outdoorHum_mean', 'MDH_outdoorAtmo_mean', 'MDH_indoorHum_mean', 'MDH_indoorAtmo_mean']\n"
     ]
    },
    {
     "data": {
      "text/plain": [
       "(25213, 106)"
      ]
     },
     "execution_count": 6,
     "metadata": {},
     "output_type": "execute_result"
    }
   ],
   "source": [
    "# 不同粒度下的聚合特征\n",
    "def short_time(x):\n",
    "    if x<6:\n",
    "        x=0\n",
    "    elif (x<12)and(x>=6):\n",
    "        x=6\n",
    "    elif (x<18)and(x>=12):\n",
    "        x=12\n",
    "    else:\n",
    "        x=18\n",
    "    return x\n",
    "data_df['short_time']=data_df['hour'].apply(lambda x:short_time(x))\n",
    "group_mean_feats = []\n",
    "group_median_feats = []\n",
    "group_mad_feats = []\n",
    "group_max_feats = []\n",
    "group_min_feats = []\n",
    "group_std_feats = []\n",
    "for f in tqdm(['outdoorTemp','outdoorHum','outdoorAtmo','indoorHum','indoorAtmo']):\n",
    "# hour 粒度\n",
    "    data_df['MDH_{}_median'.format(f)] = data_df.groupby(['month','day','hour'])[f].transform('median')\n",
    "    data_df['MDH_{}_mean'.format(f)] = data_df.groupby(['month','day','hour'])[f].transform('mean')\n",
    "    data_df['MDH_{}_max'.format(f)] = data_df.groupby(['month','day','hour'])[f].transform('max')\n",
    "    data_df['MDH_{}_min'.format(f)] = data_df.groupby(['month','day','hour'])[f].transform('min')\n",
    "    data_df['MDH_{}_std'.format(f)] = data_df.groupby(['month','day','hour'])[f].transform('std')\n",
    "    data_df['MDH_{}_mad'.format(f)] = data_df.groupby(['month','day','hour'])[f].transform('mad')\n",
    "    group_mean_feats.append('MDH_{}_mean'.format(f))\n",
    "    group_median_feats.append('MDH_{}_median'.format(f))\n",
    "    group_mad_feats.append('MDH_{}_mad'.format(f))\n",
    "    group_max_feats.append('MDH_{}_max'.format(f))\n",
    "    group_min_feats.append('MDH_{}_min'.format(f))\n",
    "    group_std_feats.append('MDH_{}_std'.format(f))\n",
    "#天 粒度    \n",
    "    data_df['MD_{}_median'.format(f)] = data_df.groupby(['month','day'])[f].transform('median')\n",
    "    data_df['MD_{}_mean'.format(f)] = data_df.groupby(['month','day'])[f].transform('mean')\n",
    "    data_df['MD_{}_max'.format(f)] = data_df.groupby(['month','day'])[f].transform('max')\n",
    "    data_df['MD_{}_min'.format(f)] = data_df.groupby(['month','day'])[f].transform('min')\n",
    "    data_df['MD_{}_std'.format(f)] = data_df.groupby(['month','day'])[f].transform('std')\n",
    "    data_df['MD_{}_mad'.format(f)] = data_df.groupby(['month','day'])[f].transform('mad')\n",
    "#6 hour 粒度\n",
    "    data_df['MD_6H_{}_median'.format(f)] = data_df.groupby(['month','day','short_time'])[f].transform('median')\n",
    "    data_df['MD_6H_{}_mean'.format(f)] = data_df.groupby(['month','day','short_time'])[f].transform('mean')\n",
    "    data_df['MD_6H_{}_max'.format(f)] = data_df.groupby(['month','day','short_time'])[f].transform('max')\n",
    "    data_df['MD_6H_{}_min'.format(f)] = data_df.groupby(['month','day','short_time'])[f].transform('min') \n",
    "    data_df['MD_6H_{}_std'.format(f)] = data_df.groupby(['month','day','short_time'])[f].transform('std')   \n",
    "    data_df['MD_6H_{}_mad'.format(f)] = data_df.groupby(['month','day','short_time'])[f].transform('mad') \n",
    "# #12 hour 粒度    \n",
    "#     data_df['MD_12H_{}_median'.format(f)] = data_df.groupby(['month','day','day_night'])[f].transform('median')\n",
    "#     data_df['MD_12H_{}_mean'.format(f)] = data_df.groupby(['month','day','day_night'])[f].transform('mean')\n",
    "#     data_df['MD_12H_{}_max'.format(f)] = data_df.groupby(['month','day','day_night'])[f].transform('max')\n",
    "#     data_df['MD_12H_{}_min'.format(f)] = data_df.groupby(['month','day','day_night'])[f].transform('min') \n",
    "#     data_df['MD_12H_{}_std'.format(f)] = data_df.groupby(['month','day','day_night'])[f].transform('std')   \n",
    "#     data_df['MD_12H_{}_mad'.format(f)] = data_df.groupby(['month','day','day_night'])[f].transform('mad') \n",
    "#30min 粒度    \n",
    "#     data_df['MDH_30min_{}_median'.format(f)] = data_df.groupby(['month','day','30_min'])[f].transform('median')\n",
    "#     data_df['MDH_30min_{}_mean'.format(f)] = data_df.groupby(['month','day','30_min'])[f].transform('mean')\n",
    "#     data_df['MDH_30min_{}_max'.format(f)] = data_df.groupby(['month','day','30_min'])[f].transform('max')\n",
    "#     data_df['MDH_30min_{}_min'.format(f)] = data_df.groupby(['month','day','30_min'])[f].transform('min') \n",
    "#     data_df['MDH_30min_{}_std'.format(f)] = data_df.groupby(['month','day','30_min'])[f].transform('std')   \n",
    "#     data_df['MDH_30min_{}_mad'.format(f)] = data_df.groupby(['month','day','30_min'])[f].transform('mad') \n",
    "print(group_mean_feats)\n",
    "data_df=data_df.drop(['short_time'],axis=1)\n",
    "data_df.shape"
   ]
  },
  {
   "cell_type": "code",
   "execution_count": 7,
   "metadata": {},
   "outputs": [
    {
     "data": {
      "text/plain": [
       "(25213, 111)"
      ]
     },
     "execution_count": 7,
     "metadata": {},
     "output_type": "execute_result"
    }
   ],
   "source": [
    "# 离散化\n",
    "for f in ['outdoorTemp','outdoorHum','outdoorAtmo','indoorHum','indoorAtmo']:\n",
    "#     data_df[f+'_20_bin'] = pd.cut(data_df[f], 20, duplicates='drop').apply(lambda x:x.left).astype(int)\n",
    "    data_df[f+'_50_bin'] = pd.cut(data_df[f], 50, duplicates='drop').apply(lambda x:x.left).astype(int)\n",
    "#     data_df[f+'_100_bin'] = pd.cut(data_df[f], 100, duplicates='drop').apply(lambda x:x.left).astype(int)\n",
    "#     data_df[f+'_200_bin'] = pd.cut(data_df[f], 200, duplicates='drop').apply(lambda x:x.left).astype(int)\n",
    "data_df.shape"
   ]
  },
  {
   "cell_type": "code",
   "execution_count": 8,
   "metadata": {},
   "outputs": [
    {
     "name": "stderr",
     "output_type": "stream",
     "text": [
      "100%|████████████████████████████████████████████████████████████████████████████████████| 6/6 [00:00<00:00, 78.00it/s]\n",
      "100%|████████████████████████████████████████████████████████████████████████████████████| 4/4 [00:00<00:00, 22.86it/s]\n",
      "100%|███████████████████████████████████████████████████████████████████████████████████| 5/5 [00:00<00:00, 104.17it/s]\n",
      "100%|████████████████████████████████████████████████████████████████████████████████████| 5/5 [00:00<00:00, 28.52it/s]\n",
      "100%|████████████████████████████████████████████████████████████████████████████████████| 5/5 [00:00<00:00, 89.28it/s]\n"
     ]
    },
    {
     "data": {
      "text/plain": [
       "(25213, 371)"
      ]
     },
     "execution_count": 8,
     "metadata": {},
     "output_type": "execute_result"
    }
   ],
   "source": [
    "#强特征outdoorTemp 聚合交叉\n",
    "for f1 in tqdm( ['MDH_outdoorTemp_mean','MD_outdoorTemp_mean','MD_6H_outdoorTemp_mean','MDH_outdoorTemp_median','MD_outdoorTemp_median','MD_6H_outdoorTemp_median']):\n",
    "\n",
    "    for f2 in  ['MDH_outdoorTemp_mean','MD_outdoorTemp_mean','MD_6H_outdoorTemp_mean','MDH_outdoorTemp_median','MD_outdoorTemp_median','MD_6H_outdoorTemp_median']:\n",
    "        if f1 != f2:\n",
    "            colname_div = '{}_{}_div'.format(f1, f2)\n",
    "            data_df[colname_div] = data_df[f1].values / data_df[f2].values\n",
    "            colname_sub = '{}_{}_sub'.format(f1, f2)\n",
    "            data_df[colname_sub] = data_df[f1].values - data_df[f2].values            \n",
    "# 基本交叉特征 \n",
    "for f1 in tqdm(['outdoorTemp','outdoorHum','indoorHum','indoorAtmo']):\n",
    "    \n",
    "    for f2 in group_median_feats+group_mean_feats:\n",
    "        if f1 != f2:\n",
    "            colname_div = '{}_{}_div'.format(f1, f2)\n",
    "            data_df[colname_div] = data_df[f1].values / data_df[f2].values\n",
    "            colname_sub = '{}_{}_sub'.format(f1, f2)\n",
    "            data_df[colname_sub] = data_df[f1].values - data_df[f2].values\n",
    "for f1 in tqdm(['outdoorTemp','outdoorHum','outdoorAtmo','indoorHum','indoorAtmo']):\n",
    "    \n",
    "    for f2 in ['outdoorTemp','outdoorHum','outdoorAtmo','indoorHum','indoorAtmo']:\n",
    "        if f1 != f2:\n",
    "            colname_div = '{}_{}_div'.format(f1, f2)\n",
    "            data_df[colname_div] = data_df[f1].values / data_df[f2].values\n",
    "            colname_sub = '{}_{}_sub'.format(f1, f2)\n",
    "            data_df[colname_sub] = data_df[f1].values - data_df[f2].values                   \n",
    "# 基础mean交叉特征            \n",
    "for f1 in tqdm(group_mean_feats):\n",
    "    \n",
    "    for f2 in  group_mean_feats:\n",
    "        if f1 != f2:\n",
    "            colname_div = '{}_{}_div_mean'.format(f1, f2)\n",
    "            data_df[colname_div] = data_df[f1].values / data_df[f2].values\n",
    "            colname_sub = '{}_{}_sub_mean'.format(f1, f2)\n",
    "            data_df[colname_sub] = data_df[f1].values - data_df[f2].values\n",
    "# 基础median交叉特征            \n",
    "for f1 in tqdm(group_median_feats):\n",
    "    \n",
    "    for f2 in  group_median_feats:\n",
    "        if f1 != f2:\n",
    "            colname_div = '{}_{}_div_median'.format(f1, f2)\n",
    "            data_df[colname_div] = data_df[f1].values / data_df[f2].values\n",
    "            colname_sub = '{}_{}_sub_median'.format(f1, f2)\n",
    "            data_df[colname_sub] = data_df[f1].values - data_df[f2].values\n",
    "            \n",
    "data_df = data_df.fillna(method='bfill')\n",
    "data_df.shape"
   ]
  },
  {
   "cell_type": "code",
   "execution_count": 9,
   "metadata": {},
   "outputs": [
    {
     "data": {
      "text/plain": [
       "(25213, 413)"
      ]
     },
     "execution_count": 9,
     "metadata": {},
     "output_type": "execute_result"
    }
   ],
   "source": [
    "data_df['dt'] = data_df['day'].values + (data_df['month'].values - 3) * 31-14\n",
    "data_df['hour_add']=data_df['hour']+data_df['dt']*24\n",
    "#差分:同比 前n小时的div\n",
    "def yoy(data_df,n,agg_method,group_feats):\n",
    "    \n",
    "    for m in group_feats:\n",
    "        tpm_df=pd.DataFrame()\n",
    "        tpm=pd.DataFrame()\n",
    "        for i in np.arange(1,721):\n",
    "            a=data_df['hour_add']==i\n",
    "            b=data_df['hour_add']==i-n\n",
    "            if i<=n:\n",
    "                tpm['yoy_{}'.format(m)]=data_df.loc[a,m].agg({agg_method})-data_df.loc[a,m].agg({agg_method})\n",
    "                tpm['hour_add']=i\n",
    "                tpm_df=tpm_df.append(tpm)\n",
    "#                 data_df.loc[a,'yoy_{}'.format(m)]=data_df.loc[a,m].agg({agg_method})\n",
    "            else:\n",
    "                tpm['yoy_{}'.format(m)]=data_df.loc[a,m].agg({agg_method})-data_df.loc[b,m].agg({agg_method})\n",
    "                tpm['hour_add']=i\n",
    "                tpm_df=tpm_df.append(tpm)\n",
    "        data_df=data_df.merge(tpm_df,on=['hour_add'],how='left')\n",
    "    return data_df            \n",
    "data_df=yoy(data_df=data_df,n=1,agg_method='mean',group_feats=group_mean_feats)\n",
    "data_df=yoy(data_df=data_df,n=1,agg_method='median',group_feats=group_median_feats)\n",
    "data_df=yoy(data_df=data_df,n=1,agg_method='max',group_feats=group_max_feats)\n",
    "data_df=yoy(data_df=data_df,n=1,agg_method='min',group_feats=group_min_feats)\n",
    "data_df=yoy(data_df=data_df,n=2,agg_method='mean',group_feats=group_mean_feats)\n",
    "data_df=yoy(data_df=data_df,n=2,agg_method='median',group_feats=group_median_feats)\n",
    "data_df=yoy(data_df=data_df,n=2,agg_method='max',group_feats=group_max_feats)\n",
    "data_df=yoy(data_df=data_df,n=2,agg_method='min',group_feats=group_min_feats)\n",
    "data_df.shape"
   ]
  },
  {
   "cell_type": "code",
   "execution_count": 10,
   "metadata": {},
   "outputs": [
    {
     "name": "stderr",
     "output_type": "stream",
     "text": [
      "100%|████████████████████████████████████████████████████████████████████████████████████| 5/5 [00:06<00:00,  1.38s/it]\n",
      "100%|████████████████████████████████████████████████████████████████████████████████████| 5/5 [00:06<00:00,  1.35s/it]\n",
      "100%|████████████████████████████████████████████████████████████████████████████████████| 5/5 [00:06<00:00,  1.38s/it]\n",
      "100%|████████████████████████████████████████████████████████████████████████████████████| 5/5 [00:06<00:00,  1.37s/it]\n",
      "100%|████████████████████████████████████████████████████████████████████████████████████| 5/5 [00:06<00:00,  1.38s/it]\n",
      "100%|████████████████████████████████████████████████████████████████████████████████████| 5/5 [00:11<00:00,  2.31s/it]\n"
     ]
    },
    {
     "data": {
      "text/plain": [
       "(25213, 443)"
      ]
     },
     "execution_count": 10,
     "metadata": {},
     "output_type": "execute_result"
    }
   ],
   "source": [
    "#历史信息提取\n",
    "#前n天的聚合特征\n",
    "group_history_feats = []\n",
    "def history_data(data,ind,n):\n",
    "    for f in tqdm(['outdoorTemp','outdoorHum','outdoorAtmo','indoorHum','indoorAtmo']):\n",
    "        tmp_df = pd.DataFrame()\n",
    "        for t in range(1, 31):\n",
    "            a=data_df['dt']<t\n",
    "            b=data_df['dt']>=t-n\n",
    "            c=a&b\n",
    "            tmp = data.loc[c,:].groupby(['hour'])[f].agg({ind}).reset_index()\n",
    "            tmp.columns = ['hour','{}_{}_{}_history_hour'.format(n,f,ind)]\n",
    "            tmp['dt']=t\n",
    "            tmp_df = tmp_df.append(tmp)\n",
    "        data = data.merge(tmp_df, on=['dt','hour'], how='left')\n",
    "        group_history_feats.append('{}_{}_{}_history_hour'.format(n,f,ind))\n",
    "    return data\n",
    "\n",
    "data_df=history_data(data=data_df,n=2,ind='mean')  \n",
    "data_df=history_data(data=data_df,n=2,ind='median')    \n",
    "data_df=history_data(data=data_df,n=2,ind='max')    \n",
    "data_df=history_data(data=data_df,n=2,ind='min') \n",
    "data_df=history_data(data=data_df,n=2,ind='std')    \n",
    "data_df=history_data(data=data_df,n=2,ind='mad') \n",
    "data_df = data_df.fillna(method='bfill')\n",
    "data_df.shape"
   ]
  },
  {
   "cell_type": "code",
   "execution_count": 11,
   "metadata": {
    "collapsed": true
   },
   "outputs": [
    {
     "data": {
      "text/html": [
       "<div>\n",
       "<style scoped>\n",
       "    .dataframe tbody tr th:only-of-type {\n",
       "        vertical-align: middle;\n",
       "    }\n",
       "\n",
       "    .dataframe tbody tr th {\n",
       "        vertical-align: top;\n",
       "    }\n",
       "\n",
       "    .dataframe thead th {\n",
       "        text-align: right;\n",
       "    }\n",
       "</style>\n",
       "<table border=\"1\" class=\"dataframe\">\n",
       "  <thead>\n",
       "    <tr style=\"text-align: right;\">\n",
       "      <th></th>\n",
       "      <th>index</th>\n",
       "      <th>0</th>\n",
       "    </tr>\n",
       "  </thead>\n",
       "  <tbody>\n",
       "    <tr>\n",
       "      <th>0</th>\n",
       "      <td>time</td>\n",
       "      <td>0.0</td>\n",
       "    </tr>\n",
       "    <tr>\n",
       "      <th>1</th>\n",
       "      <td>year</td>\n",
       "      <td>0.0</td>\n",
       "    </tr>\n",
       "    <tr>\n",
       "      <th>2</th>\n",
       "      <td>month</td>\n",
       "      <td>0.0</td>\n",
       "    </tr>\n",
       "    <tr>\n",
       "      <th>3</th>\n",
       "      <td>day</td>\n",
       "      <td>0.0</td>\n",
       "    </tr>\n",
       "    <tr>\n",
       "      <th>4</th>\n",
       "      <td>hour</td>\n",
       "      <td>0.0</td>\n",
       "    </tr>\n",
       "    <tr>\n",
       "      <th>...</th>\n",
       "      <td>...</td>\n",
       "      <td>...</td>\n",
       "    </tr>\n",
       "    <tr>\n",
       "      <th>438</th>\n",
       "      <td>2_outdoorTemp_mad_history_hour</td>\n",
       "      <td>0.0</td>\n",
       "    </tr>\n",
       "    <tr>\n",
       "      <th>439</th>\n",
       "      <td>2_outdoorHum_mad_history_hour</td>\n",
       "      <td>0.0</td>\n",
       "    </tr>\n",
       "    <tr>\n",
       "      <th>440</th>\n",
       "      <td>2_outdoorAtmo_mad_history_hour</td>\n",
       "      <td>0.0</td>\n",
       "    </tr>\n",
       "    <tr>\n",
       "      <th>441</th>\n",
       "      <td>2_indoorHum_mad_history_hour</td>\n",
       "      <td>0.0</td>\n",
       "    </tr>\n",
       "    <tr>\n",
       "      <th>442</th>\n",
       "      <td>2_indoorAtmo_mad_history_hour</td>\n",
       "      <td>0.0</td>\n",
       "    </tr>\n",
       "  </tbody>\n",
       "</table>\n",
       "<p>443 rows × 2 columns</p>\n",
       "</div>"
      ],
      "text/plain": [
       "                              index    0\n",
       "0                              time  0.0\n",
       "1                              year  0.0\n",
       "2                             month  0.0\n",
       "3                               day  0.0\n",
       "4                              hour  0.0\n",
       "..                              ...  ...\n",
       "438  2_outdoorTemp_mad_history_hour  0.0\n",
       "439   2_outdoorHum_mad_history_hour  0.0\n",
       "440  2_outdoorAtmo_mad_history_hour  0.0\n",
       "441    2_indoorHum_mad_history_hour  0.0\n",
       "442   2_indoorAtmo_mad_history_hour  0.0\n",
       "\n",
       "[443 rows x 2 columns]"
      ]
     },
     "execution_count": 11,
     "metadata": {},
     "output_type": "execute_result"
    }
   ],
   "source": [
    "data_df = data_df.fillna(method='bfill')\n",
    "data_df.apply(lambda x:sum(x.isnull())/len(x)).reset_index()"
   ]
  },
  {
   "cell_type": "code",
   "execution_count": 12,
   "metadata": {},
   "outputs": [],
   "source": [
    "def single_model(clf, train_x, train_y, test_x, clf_name, class_num=1):\n",
    "\n",
    "    train = np.zeros((train_x.shape[0], class_num))\n",
    "    test = np.zeros((test_x.shape[0], class_num))\n",
    "    \n",
    "    nums = int(train_x.shape[0] * 0.80)\n",
    "    \n",
    "    if clf_name in ['ridge']:\n",
    "        print('MinMaxScaler...')\n",
    "        for col in features:\n",
    "            ss = MinMaxScaler()\n",
    "            ss.fit(np.vstack([train_x[[col]].values, test_x[[col]].values]))\n",
    "#             train_x[col] = ss.transform(train_x[[col]].values).flatten()\n",
    "#             test_x[col] = ss.transform(test_x[[col]].values).flatten()\n",
    "            train_x[col] = ss.transform(train_x[[col]].values)\n",
    "            test_x[col] = ss.transform(test_x[[col]].values)\n",
    "    \n",
    "    trn_x, trn_y, val_x, val_y = train_x[:nums], train_y[:nums], train_x[nums:], train_y[nums:]\n",
    "    if clf_name == \"lgb\":\n",
    "        train_matrix = clf.Dataset(trn_x, label=trn_y)\n",
    "        valid_matrix = clf.Dataset(val_x, label=val_y)\n",
    "        data_matrix  = clf.Dataset(train_x, label=train_y)\n",
    "        \n",
    "        params = {\n",
    "            'boosting_type': 'gbdt',\n",
    "            'objective': 'rmse',\n",
    "            'min_child_weight': 5,\n",
    "            'num_leaves': 2 ** 8,\n",
    "            'feature_fraction': 0.5,\n",
    "            'bagging_fraction': 0.5,\n",
    "            'bagging_freq': 1,\n",
    "            'learning_rate': 0.001,\n",
    "            'seed': 2020\n",
    "        }\n",
    "\n",
    "        model = clf.train(params, train_matrix, 50000, valid_sets=[train_matrix, valid_matrix], verbose_eval=500,early_stopping_rounds=50)\n",
    "        model2 = clf.train(params, data_matrix, model.best_iteration)\n",
    "        val_pred = model.predict(val_x, num_iteration=model2.best_iteration).reshape(-1,1)\n",
    "        test_pred = model.predict(test_x, num_iteration=model2.best_iteration).reshape(-1,1)\n",
    "\n",
    "    if clf_name == \"xgb\":\n",
    "        train_matrix = clf.DMatrix(trn_x , label=trn_y, missing=np.nan)\n",
    "        valid_matrix = clf.DMatrix(val_x , label=val_y, missing=np.nan)\n",
    "        test_matrix  = clf.DMatrix(test_x, label=val_y, missing=np.nan)\n",
    "        params = {'booster': 'gbtree',\n",
    "#                   'tree_method': 'gpu_hist',\n",
    "                  'eval_metric': 'rmse',\n",
    "                  'min_child_weight': 5,\n",
    "                  'max_depth': 6,\n",
    "                  'subsample': 0.5,\n",
    "                  'colsample_bytree': 0.5,\n",
    "                  'eta': 0.001,\n",
    "                  'seed': 2020,\n",
    "                  'nthread': 36,\n",
    "                  'silent': True,\n",
    "                  }\n",
    "\n",
    "        watchlist = [(train_matrix, 'train'),(valid_matrix, 'eval')]\n",
    "\n",
    "        model = clf.train(params, train_matrix, num_boost_round=50000, evals=watchlist, verbose_eval=200, early_stopping_rounds=50)\n",
    "        val_pred  = model.predict(valid_matrix, ntree_limit=model.best_ntree_limit).reshape(-1,1)\n",
    "        test_pred = model.predict(test_matrix , ntree_limit=model.best_ntree_limit).reshape(-1,1)\n",
    "\n",
    "    if clf_name == \"cat\":\n",
    "        params = {'learning_rate': 0.001,\n",
    "                  'depth': 5, \n",
    "                  'l2_leaf_reg': 10,\n",
    "                  'bootstrap_type': 'Bernoulli',\n",
    "                  'od_type': 'Iter', \n",
    "                  'od_wait': 50, 'random_seed': 11, \n",
    "                  'allow_writing_files': False\n",
    "                 }\n",
    "\n",
    "        model = clf(iterations=20000, **params)\n",
    "        model.fit(trn_x, trn_y, eval_set=(val_x, val_y),\n",
    "                  cat_features=[], use_best_model=True, verbose=500)\n",
    "\n",
    "        val_pred  = model.predict(val_x)\n",
    "        test_pred = model.predict(test_x)\n",
    "    \n",
    "    if clf_name == \"ridge\":\n",
    "        params = {\n",
    "                'alpha': 1.0,\n",
    "                'random_state': 2020,\n",
    "            }\n",
    "        model = Ridge(**params)\n",
    "        model.fit(trn_x, trn_y)\n",
    "        val_pred  = model.predict(val_x)\n",
    "        test_pred = model.predict(test_x)\n",
    "\n",
    "    \n",
    "    print(\"%s_mse_score:\" % clf_name, mean_squared_error(val_y, val_pred))\n",
    "    \n",
    "    return val_pred, test_pred"
   ]
  },
  {
   "cell_type": "code",
   "execution_count": 13,
   "metadata": {},
   "outputs": [],
   "source": [
    "def lgb_model(x_train, y_train, x_valid):\n",
    "    lgb_train, lgb_test = single_model(lgb, x_train, y_train, x_valid, \"lgb\", 1)\n",
    "    return lgb_train, lgb_test\n",
    "\n",
    "def xgb_model(x_train, y_train, x_valid):\n",
    "    xgb_train, xgb_test = single_model(xgb, x_train, y_train, x_valid, \"xgb\", 1)\n",
    "    return xgb_train, xgb_test\n",
    "\n",
    "def cat_model(x_train, y_train, x_valid):\n",
    "    cat_train, cat_test = single_model(CatBoostRegressor, x_train, y_train, x_valid, \"cat\", 1)\n",
    "    return cat_train, cat_test\n",
    "\n",
    "def ridge_model(x_train, y_train, x_valid):\n",
    "    ridge_train, ridge_test = single_model(Ridge, x_train, y_train, x_valid, \"ridge\", 1)\n",
    "    return ridge_train, ridge_test"
   ]
  },
  {
   "cell_type": "code",
   "execution_count": 14,
   "metadata": {},
   "outputs": [],
   "source": [
    "drop_columns=[\"time\",\"year\",\"sec\",\"temperature\"]\n",
    "train_count = train_df.shape[0]\n",
    "train_df = data_df[:train_count].copy().reset_index(drop=True)\n",
    "test_df = data_df[train_count:].copy().reset_index(drop=True)\n",
    "features = train_df[:1].drop(drop_columns,axis=1).columns\n",
    "x_train= train_df.drop(drop_columns,axis=1)\n",
    "x_test= test_df.drop(drop_columns,axis=1)\n",
    "\n",
    "y_train=(train_df['temperature'].values-train_df['outdoorTemp'].values)/train_df['MDH_outdoorTemp_mean']"
   ]
  },
  {
   "cell_type": "code",
   "execution_count": 15,
   "metadata": {
    "collapsed": true
   },
   "outputs": [
    {
     "name": "stdout",
     "output_type": "stream",
     "text": [
      "[0]\ttrain-rmse:0.487744\teval-rmse:0.483433\n",
      "Multiple eval metrics have been passed: 'eval-rmse' will be used for early stopping.\n",
      "\n",
      "Will train until eval-rmse hasn't improved in 50 rounds.\n",
      "[200]\ttrain-rmse:0.399467\teval-rmse:0.3977\n",
      "[400]\ttrain-rmse:0.327202\teval-rmse:0.327259\n",
      "[600]\ttrain-rmse:0.268047\teval-rmse:0.269496\n",
      "[800]\ttrain-rmse:0.219627\teval-rmse:0.222166\n",
      "[1000]\ttrain-rmse:0.18\teval-rmse:0.183413\n",
      "[1200]\ttrain-rmse:0.147573\teval-rmse:0.151614\n",
      "[1400]\ttrain-rmse:0.12104\teval-rmse:0.125497\n",
      "[1600]\ttrain-rmse:0.099331\teval-rmse:0.104172\n",
      "[1800]\ttrain-rmse:0.081574\teval-rmse:0.086812\n",
      "[2000]\ttrain-rmse:0.067056\teval-rmse:0.07267\n",
      "[2200]\ttrain-rmse:0.055192\teval-rmse:0.061135\n",
      "[2400]\ttrain-rmse:0.045507\teval-rmse:0.05178\n",
      "[2600]\ttrain-rmse:0.037608\teval-rmse:0.044225\n",
      "[2800]\ttrain-rmse:0.03118\teval-rmse:0.038113\n",
      "[3000]\ttrain-rmse:0.025962\teval-rmse:0.033191\n",
      "[3200]\ttrain-rmse:0.021742\teval-rmse:0.029255\n",
      "[3400]\ttrain-rmse:0.018344\teval-rmse:0.026105\n",
      "[3600]\ttrain-rmse:0.015623\teval-rmse:0.023604\n",
      "[3800]\ttrain-rmse:0.013461\teval-rmse:0.02163\n",
      "[4000]\ttrain-rmse:0.01176\teval-rmse:0.020068\n",
      "[4200]\ttrain-rmse:0.010429\teval-rmse:0.018839\n",
      "[4400]\ttrain-rmse:0.009398\teval-rmse:0.017874\n",
      "[4600]\ttrain-rmse:0.008605\teval-rmse:0.017112\n",
      "[4800]\ttrain-rmse:0.008\teval-rmse:0.016502\n",
      "[5000]\ttrain-rmse:0.007538\teval-rmse:0.016029\n",
      "[5200]\ttrain-rmse:0.007184\teval-rmse:0.015654\n",
      "[5400]\ttrain-rmse:0.006912\teval-rmse:0.015352\n",
      "[5600]\ttrain-rmse:0.006698\teval-rmse:0.015115\n",
      "[5800]\ttrain-rmse:0.006523\teval-rmse:0.014925\n",
      "[6000]\ttrain-rmse:0.00638\teval-rmse:0.014772\n",
      "[6200]\ttrain-rmse:0.006261\teval-rmse:0.01465\n",
      "[6400]\ttrain-rmse:0.00616\teval-rmse:0.014549\n",
      "[6600]\ttrain-rmse:0.006072\teval-rmse:0.01447\n",
      "[6800]\ttrain-rmse:0.00599\teval-rmse:0.014404\n",
      "[7000]\ttrain-rmse:0.005914\teval-rmse:0.014352\n",
      "[7200]\ttrain-rmse:0.005845\teval-rmse:0.01431\n",
      "[7400]\ttrain-rmse:0.005783\teval-rmse:0.014277\n",
      "[7600]\ttrain-rmse:0.005725\teval-rmse:0.014248\n",
      "[7800]\ttrain-rmse:0.005669\teval-rmse:0.014223\n",
      "[8000]\ttrain-rmse:0.005613\teval-rmse:0.014204\n",
      "[8200]\ttrain-rmse:0.005563\teval-rmse:0.014188\n",
      "[8400]\ttrain-rmse:0.005512\teval-rmse:0.014174\n",
      "[8600]\ttrain-rmse:0.005463\teval-rmse:0.01416\n",
      "[8800]\ttrain-rmse:0.005415\teval-rmse:0.014152\n",
      "[9000]\ttrain-rmse:0.005367\teval-rmse:0.014142\n",
      "Stopping. Best iteration:\n",
      "[8969]\ttrain-rmse:0.005375\teval-rmse:0.014141\n",
      "\n",
      "xgb_mse_score: 0.00019998639724220628\n"
     ]
    }
   ],
   "source": [
    "xgb_train, xgb_test = xgb_model(x_train, y_train, x_test)\n",
    "sub[\"temperature\"] =xgb_test[:,0]*test_df['MDH_outdoorTemp_mean']+test_df['outdoorTemp'].values\n",
    "sub.to_csv(r'C:/Users/ZC7/Desktop/tianchi/iFLYTEK_AI/test_data/8_19_02.csv', index=False)"
   ]
  },
  {
   "cell_type": "code",
   "execution_count": 24,
   "metadata": {
    "collapsed": true
   },
   "outputs": [
    {
     "name": "stdout",
     "output_type": "stream",
     "text": [
      "0:\tlearn: 0.0461883\ttest: 0.0219456\tbest: 0.0219456 (0)\ttotal: 216ms\tremaining: 1h 11m 54s\n",
      "500:\tlearn: 0.0315357\ttest: 0.0154779\tbest: 0.0154779 (500)\ttotal: 33.8s\tremaining: 21m 57s\n",
      "1000:\tlearn: 0.0228655\ttest: 0.0134976\tbest: 0.0134976 (1000)\ttotal: 1m 7s\tremaining: 21m 24s\n",
      "1500:\tlearn: 0.0178940\ttest: 0.0131346\tbest: 0.0131343 (1498)\ttotal: 1m 41s\tremaining: 20m 48s\n",
      "Stopped by overfitting detector  (50 iterations wait)\n",
      "\n",
      "bestTest = 0.01311753734\n",
      "bestIteration = 1557\n",
      "\n",
      "Shrink model to first 1558 iterations.\n",
      "cat_mse_score: 0.00017206978657664774\n"
     ]
    },
    {
     "ename": "IndexError",
     "evalue": "too many indices for array: array is 1-dimensional, but 2 were indexed",
     "output_type": "error",
     "traceback": [
      "\u001b[1;31m---------------------------------------------------------------------------\u001b[0m",
      "\u001b[1;31mIndexError\u001b[0m                                Traceback (most recent call last)",
      "\u001b[1;32m<ipython-input-24-2b188bf06b36>\u001b[0m in \u001b[0;36m<module>\u001b[1;34m()\u001b[0m\n\u001b[0;32m      8\u001b[0m \u001b[1;31m# yyy_train=np.expm1(yy_train)+train_df['outdoorTemp'].values\u001b[0m\u001b[1;33m\u001b[0m\u001b[1;33m\u001b[0m\u001b[0m\n\u001b[0;32m      9\u001b[0m \u001b[1;31m# sub[\"temperature\"] =np.expm1(xgb_test[:,0])/10000+test_df['outdoorTemp'].values\u001b[0m\u001b[1;33m\u001b[0m\u001b[1;33m\u001b[0m\u001b[0m\n\u001b[1;32m---> 10\u001b[1;33m \u001b[0msub\u001b[0m\u001b[1;33m[\u001b[0m\u001b[1;34m\"temperature\"\u001b[0m\u001b[1;33m]\u001b[0m \u001b[1;33m=\u001b[0m\u001b[0mcat_test\u001b[0m\u001b[1;33m[\u001b[0m\u001b[1;33m:\u001b[0m\u001b[1;33m,\u001b[0m\u001b[1;36m0\u001b[0m\u001b[1;33m]\u001b[0m\u001b[1;33m*\u001b[0m\u001b[0mtest_df\u001b[0m\u001b[1;33m[\u001b[0m\u001b[1;34m'MDH_outdoorTemp_mean'\u001b[0m\u001b[1;33m]\u001b[0m\u001b[1;33m+\u001b[0m\u001b[0mtest_df\u001b[0m\u001b[1;33m[\u001b[0m\u001b[1;34m'outdoorTemp'\u001b[0m\u001b[1;33m]\u001b[0m\u001b[1;33m.\u001b[0m\u001b[0mvalues\u001b[0m\u001b[1;33m\u001b[0m\u001b[0m\n\u001b[0m\u001b[0;32m     11\u001b[0m \u001b[0msub\u001b[0m\u001b[1;33m.\u001b[0m\u001b[0mto_csv\u001b[0m\u001b[1;33m(\u001b[0m\u001b[1;34mr'C:/Users/ZC7/Desktop/tianchi/iFLYTEK_AI/test_data/8_17_02.csv'\u001b[0m\u001b[1;33m,\u001b[0m \u001b[0mindex\u001b[0m\u001b[1;33m=\u001b[0m\u001b[1;32mFalse\u001b[0m\u001b[1;33m)\u001b[0m\u001b[1;33m\u001b[0m\u001b[0m\n",
      "\u001b[1;31mIndexError\u001b[0m: too many indices for array: array is 1-dimensional, but 2 were indexed"
     ]
    }
   ],
   "source": [
    "cat_train, cat_test = cat_model(x_train, y_train, x_test)\n",
    "sub[\"temperature\"] =cat_test.reshape(-1,1)[:,0]*test_df['MDH_outdoorTemp_mean']+test_df['outdoorTemp'].values\n",
    "sub.to_csv(r'C:/Users/ZC7/Desktop/tianchi/iFLYTEK_AI/test_data/8_17_02.csv', index=False)"
   ]
  },
  {
   "cell_type": "code",
   "execution_count": 22,
   "metadata": {},
   "outputs": [
    {
     "name": "stdout",
     "output_type": "stream",
     "text": [
      "0.06707555755236903\n"
     ]
    }
   ],
   "source": [
    "demo1=pd.read_csv(r'C:/Users/ZC7/Desktop/tianchi/iFLYTEK_AI/test_data/8_19_02.csv')\n",
    "demo2=pd.read_csv(r'C:/Users/ZC7/Desktop/tianchi/iFLYTEK_AI/test_data/116.csv')\n",
    "d_pred=demo1['temperature']*0.7+demo2[\"temperature\"]*0.3\n",
    "sub[\"temperature\"] =d_pred\n",
    "print(mean_squared_error(demo1['temperature'],demo2[\"temperature\"]))\n",
    "sub.to_csv(r'C:/Users/ZC7/Desktop/tianchi/iFLYTEK_AI/test_data/8_09_06.csv', index=False)"
   ]
  },
  {
   "cell_type": "code",
   "execution_count": 23,
   "metadata": {},
   "outputs": [
    {
     "data": {
      "text/plain": [
       "<seaborn.axisgrid.FacetGrid at 0x1fcc0054b38>"
      ]
     },
     "execution_count": 23,
     "metadata": {},
     "output_type": "execute_result"
    },
    {
     "data": {
      "image/png": "[encoded data removed]",
      "text/plain": [
       "<Figure size 504x504 with 1 Axes>"
      ]
     },
     "metadata": {
      "needs_background": "light"
     },
     "output_type": "display_data"
    },
    {
     "data": {
      "image/png": "[encoded data removed]",
      "text/plain": [
       "<Figure size 72x72 with 1 Axes>"
      ]
     },
     "metadata": {
      "needs_background": "light"
     },
     "output_type": "display_data"
    }
   ],
   "source": [
    "demo1=pd.read_csv(r'C:/Users/ZC7/Desktop/tianchi/iFLYTEK_AI/test_data/8_19_02.csv')\n",
    "demo2=pd.read_csv(r'C:/Users/ZC7/Desktop/tianchi/iFLYTEK_AI/test_data/116.csv')\n",
    "demo1.drop(['time'],axis=1,inplace=True)\n",
    "demo1=demo1.reset_index()\n",
    "demo1['tem_liner']=demo2['temperature']\n",
    "demo1.columns=['index','tem_xgb','tem_liner']\n",
    "demo1['div']=demo1['tem_liner']-demo1['tem_xgb']\n",
    "g=sns.catplot(kind='violin',inner=None,data=demo1[['tem_xgb','tem_liner']],aspect=1,height=7)\n",
    "sns.catplot(kind='swarm',color='k',size=1,data=demo1[['tem_xgb','tem_liner']],ax=g.ax)"
   ]
  }
 ],
 "metadata": {
  "kernelspec": {
   "display_name": "Python 3",
   "language": "python",
   "name": "python3"
  },
  "language_info": {
   "codemirror_mode": {
    "name": "ipython",
    "version": 3
   },
   "file_extension": ".py",
   "mimetype": "text/x-python",
   "name": "python",
   "nbconvert_exporter": "python",
   "pygments_lexer": "ipython3",
   "version": "3.7.0"
  },
  "toc": {
   "base_numbering": 1,
   "nav_menu": {},
   "number_sections": true,
   "sideBar": true,
   "skip_h1_title": false,
   "title_cell": "Table of Contents",
   "title_sidebar": "Contents",
   "toc_cell": false,
   "toc_position": {},
   "toc_section_display": true,
   "toc_window_display": false
  },
  "varInspector": {
   "cols": {
    "lenName": 16,
    "lenType": 16,
    "lenVar": 40
   },
   "kernels_config": {
    "python": {
     "delete_cmd_postfix": "",
     "delete_cmd_prefix": "del ",
     "library": "var_list.py",
     "varRefreshCmd": "print(var_dic_list())"
    },
    "r": {
     "delete_cmd_postfix": ") ",
     "delete_cmd_prefix": "rm(",
     "library": "var_list.r",
     "varRefreshCmd": "cat(var_dic_list()) "
    }
   },
   "types_to_exclude": [
    "module",
    "function",
    "builtin_function_or_method",
    "instance",
    "_Feature"
   ],
   "window_display": false
  }
 },
 "nbformat": 4,
 "nbformat_minor": 2
}
